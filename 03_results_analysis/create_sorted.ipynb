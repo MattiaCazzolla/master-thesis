{
 "cells": [
  {
   "cell_type": "code",
   "execution_count": 1,
   "id": "2d14d450",
   "metadata": {},
   "outputs": [],
   "source": [
    "import os\n",
    "import shutil"
   ]
  },
  {
   "cell_type": "code",
   "execution_count": 7,
   "id": "3d55e1d8",
   "metadata": {},
   "outputs": [],
   "source": [
    "dd = '/home/mattia/Desktop/final_thesis/elaborato/03_results_analysis/sorted'\n",
    "ss = '/home/mattia/Desktop/final_thesis/03_results_analysis/sorted'\n",
    "\n",
    "for view in ['axial', 'coronal', 'sagittal']:\n",
    "    \n",
    "    f = os.path.join(ss, view)\n",
    "    ids = os.listdir(f)\n",
    "    \n",
    "    for idx in ids:\n",
    "        \n",
    "        os.mkdir(os.path.join(dd, view, idx))\n",
    "        \n",
    "        img = os.path.join(f,idx,'image.nii')\n",
    "        shutil.copy(img, os.path.join(dd, view, idx, 'image.nii'))\n",
    "        \n",
    "        label = os.path.join(f,idx,'label.nii')\n",
    "        shutil.copy(label, os.path.join(dd, view, idx, 'label.nii'))\n",
    "        \n",
    "        pred_normal = os.path.join(f,idx,'normal_pred.nii')\n",
    "        shutil.copy(pred_normal, os.path.join(dd, view, idx, 'pred_normal.nii'))\n",
    "        \n",
    "        pred_da = os.path.join(f,idx,'da_pred.nii')\n",
    "        shutil.copy(pred_da, os.path.join( dd, view, idx, 'pred_da.nii'))"
   ]
  },
  {
   "cell_type": "code",
   "execution_count": null,
   "id": "83eeb8cd",
   "metadata": {},
   "outputs": [],
   "source": []
  }
 ],
 "metadata": {
  "kernelspec": {
   "display_name": "Python 3 (ipykernel)",
   "language": "python",
   "name": "python3"
  },
  "language_info": {
   "codemirror_mode": {
    "name": "ipython",
    "version": 3
   },
   "file_extension": ".py",
   "mimetype": "text/x-python",
   "name": "python",
   "nbconvert_exporter": "python",
   "pygments_lexer": "ipython3",
   "version": "3.9.17"
  }
 },
 "nbformat": 4,
 "nbformat_minor": 5
}
